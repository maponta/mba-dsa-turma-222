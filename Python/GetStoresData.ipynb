{
 "cells": [
  {
   "cell_type": "markdown",
   "id": "e95108cb-a4ae-4554-8a20-663f86737828",
   "metadata": {
    "tags": []
   },
   "source": [
    "### Google Play Scrapping\n",
    "\n",
    "https://pypi.org/project/google-play-scraper/\n",
    "\n",
    "### Apple Store Scrapping\n",
    "\n",
    "https://pypi.org/project/apple-store-scraper/\n"
   ]
  },
  {
   "cell_type": "markdown",
   "id": "bf85bb69-316f-4395-8626-10697f37d0e0",
   "metadata": {
    "tags": []
   },
   "source": [
    "### Install libs\n",
    "\n",
    "```bash\n",
    "pip install pandas\n",
    "pip install selenium\n",
    "pip install parsel\n",
    "pip install apple-store-scraper\n",
    "pip install google-play-scraper\n",
    "pip install nltk\n",
    "pip install textblob\n",
    "#pip install translate\n",
    "pip install -U deep-translator\n",
    "```"
   ]
  },
  {
   "cell_type": "markdown",
   "id": "055b5b6c",
   "metadata": {},
   "source": [
    "## Getting review data from stores"
   ]
  },
  {
   "cell_type": "markdown",
   "id": "585c73c8",
   "metadata": {},
   "source": [
    "### Imports, configs and helpers"
   ]
  },
  {
   "cell_type": "code",
   "execution_count": null,
   "id": "40599ca6-6313-46ee-9671-8ca1d98c255d",
   "metadata": {
    "tags": []
   },
   "outputs": [],
   "source": [
    "# Import libs\n",
    "\n",
    "import json\n",
    "import pandas as pd\n",
    "import time\n",
    "from datetime import datetime\n",
    "from parsel import Selector\n",
    "from pprint import pprint\n",
    "from deep_translator import GoogleTranslator\n",
    "from datetime import datetime\n",
    "\n",
    "from google_play_scraper import app as GooglePlayStore, reviews_all as GooglePlayAllReviews, Sort as GooglePlaySort, reviews as GooglePlayReviews\n",
    "from apple_store_scraper import AppStore as AppleAppStore"
   ]
  },
  {
   "cell_type": "code",
   "execution_count": null,
   "id": "84254fb5-5e22-4fa7-a603-557259cd73c7",
   "metadata": {
    "tags": []
   },
   "outputs": [],
   "source": [
    "# Configs\n",
    "\n",
    "export_folder = 'outputs'\n",
    "export_json = True\n",
    "reviewsVolume = 20000\n",
    "sleepTime = 10\n",
    "reviewsPerRequest = 100\n",
    "persistData = True\n",
    "dateFrom = datetime(2021, 12, 31)\n",
    "\n",
    "google_play_ids = [\n",
    "    { 'app_name': 'nubank', 'app_id': 'com.nu.production', 'lang': 'pt', 'country': 'br' },\n",
    "    { 'app_name': 'bb', 'app_id': 'br.com.bb.android', 'lang': 'pt', 'country': 'br' },\n",
    "    { 'app_name': 'itau', 'app_id': 'com.itau', 'lang': 'pt', 'country': 'br' },\n",
    "]\n",
    "\n",
    "apple_store_ids = [\n",
    "    { 'app_name': 'nubank', 'country': 'br', 'app_id': 814456780 },\n",
    "    { 'app_name': 'bb', 'country': 'br', 'app_id': 330984271 },\n",
    "    { 'app_name': 'itau', 'country': 'br', 'app_id': 474505665 },\n",
    "]"
   ]
  },
  {
   "cell_type": "code",
   "execution_count": null,
   "id": "15040200-5510-4625-bc53-6a2ddd5dedd9",
   "metadata": {
    "tags": []
   },
   "outputs": [],
   "source": [
    "# Helpers\n",
    "\n",
    "def serializarDatetime(obj):\n",
    "    if isinstance(obj, datetime):\n",
    "        return obj.isoformat()\n",
    "    raise TypeError(f\"Tipo de objeto {type(obj)} não é serializável.\")\n",
    "\n",
    "def toEnglish(text):\n",
    "    return GoogleTranslator(source='pt', target='en').translate(text=text)\n",
    "\n",
    "def toEnglishBatch(texts):\n",
    "    pprint(f\"Starting translating of {len(texts)} reviews\")\n",
    "    separator = ' && '\n",
    "    mergedTexts = separator.join(texts)\n",
    "    result = GoogleTranslator(source='pt', target='en').translate_batch(mergedTexts)\n",
    "    splittedResult = result.split(separator)\n",
    "    pprint(f\"Finished translating of {len(splittedResult)} reviews\")\n",
    "    return splittedResult\n",
    "\n",
    "def saveStoreJson(fileContent, company, store):\n",
    "    file_export = f\"{export_folder}/reviews-{company}-{store}-{reviewsVolume}.json\"\n",
    "\n",
    "    with open(file_export, 'w', encoding='utf-8') as arquivo:\n",
    "        #arquivo.write(json)\n",
    "        json.dump(fileContent, arquivo, indent=4, ensure_ascii=False, default=serializarDatetime)\n",
    "\n",
    "def getPersistedReviews(company, store):\n",
    "    file_import = f\"{export_folder}/reviews-{company}-{store}-{reviewsVolume}.json\"\n",
    "\n",
    "    with open(file_import, 'r', encoding='utf-8') as arquivo:\n",
    "        data = json.load(arquivo)\n",
    "        return data\n",
    "    \n",
    "def checkIfFileExists(company, store):\n",
    "    file_import = f\"{export_folder}/reviews-{company}-{store}-{reviewsVolume}.json\"\n",
    "\n",
    "    try:\n",
    "        with open(file_import, 'r', encoding='utf-8') as arquivo:\n",
    "            return True\n",
    "    except:\n",
    "        return False\n",
    "    \n",
    "def mergeListWithObject(list, obj, objKey):\n",
    "    return [{**obj, objKey: item} for obj, item in zip(obj, list)]\n",
    "\n",
    "def formatGoogleReviews(reviews, company):\n",
    "    result = []\n",
    "\n",
    "    for review in reviews:\n",
    "        review['store'] = 'Google'\n",
    "        review['company'] = company\n",
    "        result.append(review)\n",
    "    \n",
    "    return result\n",
    "\n",
    "def formatAppleReviews(reviews, company):\n",
    "    result = []\n",
    "\n",
    "    for review in reviews:\n",
    "        review['store'] = 'Apple'\n",
    "        review['company'] = company\n",
    "        review['at'] = review['date']\n",
    "        review['content'] = review['review']\n",
    "        review['score'] = review['rating']\n",
    "        del review['date']\n",
    "        del review['review']\n",
    "        del review['rating']\n",
    "\n",
    "        result.append(review)\n",
    "    \n",
    "    return result"
   ]
  },
  {
   "cell_type": "markdown",
   "id": "3db0c2b6",
   "metadata": {},
   "source": [
    "### Getting data from Google and Apple stores"
   ]
  },
  {
   "cell_type": "code",
   "execution_count": null,
   "id": "0ddf9206-bb8c-4cf4-be18-20ee835ff56f",
   "metadata": {
    "tags": []
   },
   "outputs": [],
   "source": [
    "# Apple Store Getting Data\n",
    "\n",
    "resultAS = []\n",
    "\n",
    "for apple_store_id in apple_store_ids:\n",
    "    currentCompany = apple_store_id\n",
    "    currentCompanyAppName = currentCompany[\"app_name\"]\n",
    "    currentComapnyAppId = currentCompany[\"app_id\"]\n",
    "    currentCompanyCountry = currentCompany[\"country\"]\n",
    "    store = \"Apple\"\n",
    "    persistDataExists = checkIfFileExists(currentCompanyAppName, store)\n",
    "    \n",
    "    pprint(f\"Getting reviews for {currentCompanyAppName} in {store} store\")\n",
    "\n",
    "    if persistData and persistDataExists:\n",
    "        result = getPersistedReviews(currentCompanyAppName, store)\n",
    "        pprint(f\"Found {len(result)} persisted reviews\")\n",
    "    else:\n",
    "        result = AppleAppStore(\n",
    "            country=currentCompanyCountry,\n",
    "            app_name=currentCompanyAppName,\n",
    "            app_id=currentComapnyAppId,\n",
    "        )\n",
    "\n",
    "        result.review(how_many=reviewsVolume, sleep=sleepTime, after=dateFrom)\n",
    "        result = result.reviews\n",
    "        saveStoreJson(result, currentCompanyAppName, store)\n",
    "\n",
    "        pprint(f\"Found {len(result)} new reviews\")\n",
    "\n",
    "    formattedResult = formatAppleReviews(result, currentCompanyAppName)    \n",
    "    resultAS.extend(formattedResult)\n",
    "\n",
    "pprint(f\"Found total of {len(resultAS)} reviews in {len(apple_store_ids)} companies\")"
   ]
  },
  {
   "cell_type": "code",
   "execution_count": null,
   "id": "35bc06ec-5f18-47eb-8d08-e0b606de64ab",
   "metadata": {
    "tags": []
   },
   "outputs": [],
   "source": [
    "# Google Play Getting Data\n",
    "\n",
    "resultGP = []\n",
    "\n",
    "def recursion(acc, token, firstVerify):\n",
    "    time.sleep(sleepTime)\n",
    "    if not token:\n",
    "        return acc\n",
    "    \n",
    "    if len(acc) >= reviewsVolume:\n",
    "        print('Ending with: ', len(acc), ' items')\n",
    "        return acc\n",
    "    \n",
    "    if firstVerify:\n",
    "        resultRecur, continuation_token = GooglePlayReviews(\n",
    "            currentCompanyAppId,\n",
    "            lang = currentCompanyLang, # defaults to 'en'\n",
    "            country = currentCompanyCountry, # defaults to 'us'\n",
    "            sort = GooglePlaySort.NEWEST,  \n",
    "        )\n",
    "        \n",
    "    if not firstVerify:\n",
    "        resultRecur, continuation_token = GooglePlayReviews(\n",
    "            currentCompanyAppId,\n",
    "            lang = currentCompanyLang, # defaults to 'en'\n",
    "            country = currentCompanyCountry, # defaults to 'us'\n",
    "            sort = GooglePlaySort.NEWEST,\n",
    "            continuation_token = token\n",
    "        )\n",
    "        \n",
    "    newAcc = acc + resultRecur\n",
    "    \n",
    "    return recursion(newAcc, continuation_token, False)\n",
    "\n",
    "for google_play_id in google_play_ids:\n",
    "    currentCompany = google_play_id\n",
    "    currentCompanyAppName = currentCompany[\"app_name\"]\n",
    "    currentCompanyAppId = currentCompany[\"app_id\"]\n",
    "    currentCompanyCountry = currentCompany[\"country\"]\n",
    "    currentCompanyLang = currentCompany[\"lang\"]\n",
    "    store = \"Google\"\n",
    "    persistDataExists = checkIfFileExists(currentCompanyAppName, store)\n",
    "    \n",
    "    pprint(f\"Getting reviews for {currentCompanyAppName} in {store} store\")\n",
    "\n",
    "    if persistData and persistDataExists:\n",
    "        result = getPersistedReviews(currentCompanyAppName, store)\n",
    "        pprint(f\"Found {len(result)} persisted reviews for {currentCompanyAppName} in {store} store\")\n",
    "    else:\n",
    "        result = recursion([], True, True)\n",
    "        saveStoreJson(result, currentCompanyAppName, store)\n",
    "        pprint(f\"Found {len(result)} new reviews for {currentCompanyAppName} in {store} store\")\n",
    "\n",
    "    formattedResult = formatGoogleReviews(result, currentCompanyAppName)    \n",
    "    resultGP.extend(formattedResult)\n",
    "\n",
    "pprint(f\"Found total of {len(resultGP)} reviews in {len(google_play_ids)} companies\")"
   ]
  },
  {
   "cell_type": "code",
   "execution_count": null,
   "id": "c0b7bac8-b33c-4ca4-b34f-6568bbc143b1",
   "metadata": {
    "tags": []
   },
   "outputs": [],
   "source": [
    "# Saving Data\n",
    "result = resultAS + resultGP\n",
    "store = \"merged\"\n",
    "company = \"multi-company\"\n",
    "\n",
    "saveStoreJson(result, company, store)"
   ]
  },
  {
   "cell_type": "markdown",
   "id": "f6176845",
   "metadata": {},
   "source": [
    "## Translating review"
   ]
  },
  {
   "cell_type": "code",
   "execution_count": null,
   "id": "7f171664",
   "metadata": {},
   "outputs": [],
   "source": [
    "# Translate Google and Apple reviews to english \n",
    "\n",
    "dataToTranslate = result if result else getPersistedReviews('multi-company', 'merged')\n",
    "\n",
    "def toTranslateList(review):\n",
    "    reviewText = review.get('content')\n",
    "    translateReview = reviewText\n",
    "\n",
    "    return translateReview\n",
    "\n",
    "toDataTranslateList = list(map(toTranslateList, dataToTranslate))\n",
    "\n",
    "translatedList = toEnglishBatch(toDataTranslateList)\n",
    "\n",
    "translatedReviews = mergeListWithObject(translatedList, resultAS, \"ContentEN\")\n"
   ]
  },
  {
   "cell_type": "code",
   "execution_count": null,
   "id": "e1f3d2f4",
   "metadata": {},
   "outputs": [],
   "source": [
    "# Orverriding merged file with translated reviews\n",
    "\n",
    "store = \"merged\"\n",
    "company = \"multi-company\"\n",
    "\n",
    "saveStoreJson(translatedReviews, company, store)"
   ]
  }
 ],
 "metadata": {
  "kernelspec": {
   "display_name": "Python 3 (ipykernel)",
   "language": "python",
   "name": "python3"
  },
  "language_info": {
   "codemirror_mode": {
    "name": "ipython",
    "version": 3
   },
   "file_extension": ".py",
   "mimetype": "text/x-python",
   "name": "python",
   "nbconvert_exporter": "python",
   "pygments_lexer": "ipython3",
   "version": "3.11.6"
  }
 },
 "nbformat": 4,
 "nbformat_minor": 5
}
