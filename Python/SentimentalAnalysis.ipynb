{
 "cells": [
  {
   "cell_type": "code",
   "execution_count": 28,
   "id": "851e497c-d278-48e6-8ef8-30614ff140b9",
   "metadata": {
    "tags": []
   },
   "outputs": [],
   "source": [
    "import os\n",
    "import nltk\n",
    "import json\n",
    "import csv\n",
    "import pandas as pd\n",
    "from pprint import pprint\n",
    "from nltk.sentiment import SentimentIntensityAnalyzer\n",
    "\n",
    "sia = SentimentIntensityAnalyzer()\n",
    "\n",
    "#pip install translate\n",
    "\n",
    "#nltk.download()\n",
    "#nltk.download('punkt')\n",
    "#nltk.download('averaged_perceptron_tagger')\n",
    "#nltk.download('vader_lexicon')\n",
    "#nltk.download([\n",
    "#     \"names\",\n",
    "#     \"stopwords\",\n",
    "#     \"state_union\",\n",
    "#     \"twitter_samples\",\n",
    "#     \"movie_reviews\",\n",
    "#     \"averaged_perceptron_tagger\",\n",
    "#     \"vader_lexicon\",\n",
    "#     \"punkt\",\n",
    "# ])"
   ]
  },
  {
   "cell_type": "code",
   "execution_count": 4,
   "id": "fb6f4645",
   "metadata": {},
   "outputs": [],
   "source": [
    "# Configs\n",
    "\n",
    "directory = 'outputs'  # Replace with the desired directory path"
   ]
  },
  {
   "cell_type": "code",
   "execution_count": 9,
   "id": "194f8f45",
   "metadata": {},
   "outputs": [],
   "source": [
    "# Utils\n",
    "\n",
    "def getJsonFileList():\n",
    "    found_files = []\n",
    "    \n",
    "    for filename in os.listdir(directory):\n",
    "        if \"reviews-\" in filename and \"-total\" in filename:\n",
    "            found_files.append(filename)\n",
    "    \n",
    "    return found_files\n",
    "\n",
    "\n",
    "def toSentimentalAnalysis(text):\n",
    "    scores = sia.polarity_scores(text)\n",
    "    return scores"
   ]
  },
  {
   "cell_type": "code",
   "execution_count": 29,
   "id": "827b8c3c-5b4d-4ee4-be50-fbb47e820c5e",
   "metadata": {
    "tags": []
   },
   "outputs": [],
   "source": [
    "# Lendo o arquivo JSON\n",
    "\n",
    "fileList = getJsonFileList()\n",
    "reviewsToSentiment = []\n",
    "\n",
    "def addStoreNameToList(list, store, company):\n",
    "    for objeto in list:\n",
    "        objeto[\"store\"] = store\n",
    "        objeto[\"company\"] = company\n",
    "\n",
    "    return list\n",
    "\n",
    "for fileName in fileList:\n",
    "    fileOutput = f\"outputs/{fileName}\"\n",
    "\n",
    "    with open(fileOutput, 'r') as file:\n",
    "        data = json.load(file)\n",
    "\n",
    "        gReviews = data['GooglePlay']\n",
    "        aReviews = data['AppleStore']\n",
    "        company = data['Company']\n",
    "\n",
    "        addStoreNameToList(gReviews, \"GooglePlay\", company)\n",
    "        addStoreNameToList(aReviews, \"AppleStore\", company)\n",
    "\n",
    "        reviewsToSentiment = gReviews + aReviews + reviewsToSentiment\n",
    "    "
   ]
  },
  {
   "cell_type": "code",
   "execution_count": 31,
   "id": "972f91b3-43bf-449b-b956-81d48eef44ae",
   "metadata": {
    "tags": []
   },
   "outputs": [],
   "source": [
    "# Criando sentimentação Google Reviews\n",
    "\n",
    "def handleReviews(review):\n",
    "    \n",
    "    if (review['store'] == \"GooglePlay\"):\n",
    "        contentPTBR = review['content']\n",
    "        contentEN = review['ContentEN']\n",
    "        score = toSentimentalAnalysis(contentEN)\n",
    "        score[\"storeScore\"] = review['score']\n",
    "        score[\"reviewTextPTBR\"] = contentPTBR\n",
    "        score[\"reviewTextEN\"] = contentEN\n",
    "        score[\"store\"] = review['store']\n",
    "        score[\"company\"] = review['company']\n",
    "        \n",
    "        return score\n",
    "    \n",
    "    if (review['store'] == \"AppleStore\"):\n",
    "        contentPTBR = review['review']\n",
    "        contentEN = review['ContentEN']\n",
    "        score = toSentimentalAnalysis(contentEN)\n",
    "        score[\"storeScore\"] = review['rating']\n",
    "        score[\"reviewTextPTBR\"] = contentPTBR\n",
    "        score[\"reviewTextEN\"] = contentEN\n",
    "        score[\"store\"] = review['store']\n",
    "        score[\"company\"] = review['company']\n",
    "        \n",
    "        return score\n",
    "    \n",
    "reviewsScore = list(map(handleReviews, reviewsToSentiment))"
   ]
  },
  {
   "cell_type": "code",
   "execution_count": 33,
   "id": "4a8035b7-29c8-40c3-a648-8ad3150136b9",
   "metadata": {
    "tags": []
   },
   "outputs": [],
   "source": [
    "# Escrever o JSON em um arquivo CSV\n",
    "\n",
    "nome_arquivo = \"outputs/sentimental-analysis-data.xlsx\"\n",
    "\n",
    "df = pd.DataFrame(reviewsScore)\n",
    "df.to_excel(nome_arquivo, index=False)"
   ]
  }
 ],
 "metadata": {
  "kernelspec": {
   "display_name": "Python 3 (ipykernel)",
   "language": "python",
   "name": "python3"
  },
  "language_info": {
   "codemirror_mode": {
    "name": "ipython",
    "version": 3
   },
   "file_extension": ".py",
   "mimetype": "text/x-python",
   "name": "python",
   "nbconvert_exporter": "python",
   "pygments_lexer": "ipython3",
   "version": "3.11.6"
  }
 },
 "nbformat": 4,
 "nbformat_minor": 5
}
